{
 "cells": [
  {
   "cell_type": "markdown",
   "metadata": {},
   "source": [
    "### machine learning final project\n",
    "    author:孔云飞\n",
    "    date:2020/6/7\n",
    "    problem source:https://www.kaggle.com/roche-data-science-coalition/uncover/tasks ,Which populations assessed should stay home and which should see an HCP?"
   ]
  },
  {
   "cell_type": "code",
   "execution_count": 1,
   "metadata": {},
   "outputs": [
    {
     "name": "stdout",
     "output_type": "stream",
     "text": [
      "<class 'pandas.core.frame.DataFrame'>\n",
      "Int64Index: 3119 entries, 3201 to 3852\n",
      "Data columns (total 27 columns):\n",
      " #   Column                                                Non-Null Count  Dtype  \n",
      "---  ------                                                --------------  -----  \n",
      " 0   location_id                                           3119 non-null   object \n",
      " 1   is_verified                                           3119 non-null   object \n",
      " 2   is_hidden                                             3119 non-null   object \n",
      " 3   is_location_screening_patients                        3091 non-null   object \n",
      " 4   is_location_collecting_specimens                      3115 non-null   object \n",
      " 5   location_name                                         3119 non-null   object \n",
      " 6   location_address_street                               3119 non-null   object \n",
      " 7   location_address_locality                             3119 non-null   object \n",
      " 8   location_address_region                               3119 non-null   object \n",
      " 9   location_address_postal_code                          529 non-null    float64\n",
      " 10  lat                                                   3119 non-null   float64\n",
      " 11  lng                                                   3119 non-null   float64\n",
      " 12  location_place_of_service_type                        3118 non-null   object \n",
      " 13  location_contact_phone_main                           3029 non-null   object \n",
      " 14  location_contact_url_main                             1560 non-null   object \n",
      " 15  location_hours_of_operation                           541 non-null    object \n",
      " 16  is_location_accepting_third_party_orders_for_testing  1089 non-null   object \n",
      " 17  is_location_only_testing_patients_that_meet_criteria  1276 non-null   object \n",
      " 18  is_location_by_appointment_only                       1277 non-null   object \n",
      " 19  location_contact_phone_appointments                   538 non-null    object \n",
      " 20  location_contact_url_appointments                     246 non-null    object \n",
      " 21  location_specific_testing_criteria                    647 non-null    object \n",
      " 22  additional_information_for_patients                   858 non-null    object \n",
      " 23  data_source                                           3119 non-null   object \n",
      " 24  is_ready_for_prod                                     0 non-null      float64\n",
      " 25  location_address_district                             0 non-null      float64\n",
      " 26  geometry                                              3118 non-null   object \n",
      "dtypes: float64(5), object(22)\n",
      "memory usage: 682.3+ KB\n"
     ]
    }
   ],
   "source": [
    "# data processing tools\n",
    "import pandas as pd\n",
    "import numpy as np\n",
    "# data visualization tools\n",
    "import matplotlib.pyplot as plt\n",
    "import seaborn as sns\n",
    "\n",
    "df = pd.read_csv('.\\\\uncover\\\\coders_against_covid\\\\crowd-sourced-covid-19-testing-locations.csv')\n",
    "train_data = df.sample(frac=0.75, random_state=0,axis=0)\n",
    "test_data = df[~df.index.isin(train_data.index)]\n",
    "#train_data.to_csv('train_data.csv', index =False)\n",
    "#test_data.to_csv('test_data.csv', index=False)\n",
    "\n",
    "#train_data = pd.read_csv('train_data.csv')\n",
    "#test_data = pd.read_csv('test_data.csv')\n",
    "train_data.info()"
   ]
  },
  {
   "cell_type": "markdown",
   "metadata": {},
   "source": [
    "In this dataset，I think we can judge a person should stay home or see an HCP by **is verified** or not。"
   ]
  },
  {
   "cell_type": "code",
   "execution_count": 2,
   "metadata": {},
   "outputs": [
    {
     "data": {
      "text/html": [
       "<div>\n",
       "<style scoped>\n",
       "    .dataframe tbody tr th:only-of-type {\n",
       "        vertical-align: middle;\n",
       "    }\n",
       "\n",
       "    .dataframe tbody tr th {\n",
       "        vertical-align: top;\n",
       "    }\n",
       "\n",
       "    .dataframe thead th {\n",
       "        text-align: right;\n",
       "    }\n",
       "</style>\n",
       "<table border=\"1\" class=\"dataframe\">\n",
       "  <thead>\n",
       "    <tr style=\"text-align: right;\">\n",
       "      <th></th>\n",
       "      <th>location_id</th>\n",
       "      <th>is_verified</th>\n",
       "      <th>is_hidden</th>\n",
       "      <th>is_location_screening_patients</th>\n",
       "      <th>is_location_collecting_specimens</th>\n",
       "      <th>location_name</th>\n",
       "      <th>location_address_street</th>\n",
       "      <th>location_address_locality</th>\n",
       "      <th>location_address_region</th>\n",
       "      <th>location_address_postal_code</th>\n",
       "      <th>...</th>\n",
       "      <th>is_location_only_testing_patients_that_meet_criteria</th>\n",
       "      <th>is_location_by_appointment_only</th>\n",
       "      <th>location_contact_phone_appointments</th>\n",
       "      <th>location_contact_url_appointments</th>\n",
       "      <th>location_specific_testing_criteria</th>\n",
       "      <th>additional_information_for_patients</th>\n",
       "      <th>data_source</th>\n",
       "      <th>is_ready_for_prod</th>\n",
       "      <th>location_address_district</th>\n",
       "      <th>geometry</th>\n",
       "    </tr>\n",
       "  </thead>\n",
       "  <tbody>\n",
       "    <tr>\n",
       "      <th>3201</th>\n",
       "      <td>6ca2fc6d-7e78-4065-8906-ef610f3bfc3c</td>\n",
       "      <td>f</td>\n",
       "      <td>f</td>\n",
       "      <td>t</td>\n",
       "      <td>f</td>\n",
       "      <td>Olivet Health Department</td>\n",
       "      <td>140 Euclid Street</td>\n",
       "      <td>Olivet</td>\n",
       "      <td>South Dakota</td>\n",
       "      <td>NaN</td>\n",
       "      <td>...</td>\n",
       "      <td>NaN</td>\n",
       "      <td>NaN</td>\n",
       "      <td>NaN</td>\n",
       "      <td>NaN</td>\n",
       "      <td>NaN</td>\n",
       "      <td>NaN</td>\n",
       "      <td>provider website</td>\n",
       "      <td>NaN</td>\n",
       "      <td>NaN</td>\n",
       "      <td>POINT (-97.6746926 43.2410819)</td>\n",
       "    </tr>\n",
       "    <tr>\n",
       "      <th>2172</th>\n",
       "      <td>4ec75b5d-b8fe-48d8-9f7c-73400ecd16ad</td>\n",
       "      <td>f</td>\n",
       "      <td>f</td>\n",
       "      <td>t</td>\n",
       "      <td>f</td>\n",
       "      <td>Montana Health Department</td>\n",
       "      <td>220 West Lamme Street</td>\n",
       "      <td>Bozeman</td>\n",
       "      <td>Montana</td>\n",
       "      <td>NaN</td>\n",
       "      <td>...</td>\n",
       "      <td>NaN</td>\n",
       "      <td>NaN</td>\n",
       "      <td>NaN</td>\n",
       "      <td>NaN</td>\n",
       "      <td>NaN</td>\n",
       "      <td>NaN</td>\n",
       "      <td>provider website</td>\n",
       "      <td>NaN</td>\n",
       "      <td>NaN</td>\n",
       "      <td>POINT (-111.04209 45.681274)</td>\n",
       "    </tr>\n",
       "    <tr>\n",
       "      <th>3934</th>\n",
       "      <td>a8ee7594-6166-41b0-a8a7-119b1c0973ce</td>\n",
       "      <td>t</td>\n",
       "      <td>f</td>\n",
       "      <td>t</td>\n",
       "      <td>f</td>\n",
       "      <td>UW Medical Center - Northwest</td>\n",
       "      <td>1550 N 115th St.</td>\n",
       "      <td>Seattle</td>\n",
       "      <td>WA</td>\n",
       "      <td>98133.0</td>\n",
       "      <td>...</td>\n",
       "      <td>t</td>\n",
       "      <td>t</td>\n",
       "      <td>NaN</td>\n",
       "      <td>NaN</td>\n",
       "      <td>https://www.doh.wa.gov/Emergencies/NovelCorona...</td>\n",
       "      <td>https://www.doh.wa.gov/Emergencies/Coronavirus</td>\n",
       "      <td>provider website</td>\n",
       "      <td>NaN</td>\n",
       "      <td>NaN</td>\n",
       "      <td>POINT (-122.33911 47.712307)</td>\n",
       "    </tr>\n",
       "    <tr>\n",
       "      <th>3607</th>\n",
       "      <td>13ca33b3-8287-44c0-a226-7df76a6a303f</td>\n",
       "      <td>f</td>\n",
       "      <td>f</td>\n",
       "      <td>t</td>\n",
       "      <td>f</td>\n",
       "      <td>Health Officer - Concord</td>\n",
       "      <td>385 West Main Street</td>\n",
       "      <td>Concord</td>\n",
       "      <td>Vermont</td>\n",
       "      <td>NaN</td>\n",
       "      <td>...</td>\n",
       "      <td>NaN</td>\n",
       "      <td>NaN</td>\n",
       "      <td>NaN</td>\n",
       "      <td>NaN</td>\n",
       "      <td>NaN</td>\n",
       "      <td>NaN</td>\n",
       "      <td>provider website</td>\n",
       "      <td>NaN</td>\n",
       "      <td>NaN</td>\n",
       "      <td>POINT (-71.69618 44.461197)</td>\n",
       "    </tr>\n",
       "    <tr>\n",
       "      <th>2954</th>\n",
       "      <td>3aaff55d-3571-4dbf-9439-0353426c40e5</td>\n",
       "      <td>f</td>\n",
       "      <td>f</td>\n",
       "      <td>t</td>\n",
       "      <td>f</td>\n",
       "      <td>Oklahoma State Department of Health</td>\n",
       "      <td>1000 Northeast 10th Street</td>\n",
       "      <td>Oklahoma</td>\n",
       "      <td>Oklahoma</td>\n",
       "      <td>NaN</td>\n",
       "      <td>...</td>\n",
       "      <td>NaN</td>\n",
       "      <td>NaN</td>\n",
       "      <td>NaN</td>\n",
       "      <td>NaN</td>\n",
       "      <td>NaN</td>\n",
       "      <td>NaN</td>\n",
       "      <td>provider website</td>\n",
       "      <td>NaN</td>\n",
       "      <td>NaN</td>\n",
       "      <td>POINT (-97.48937 35.47799)</td>\n",
       "    </tr>\n",
       "    <tr>\n",
       "      <th>1999</th>\n",
       "      <td>cabfe6cb-6872-4f17-9827-a815bc90a6c1</td>\n",
       "      <td>f</td>\n",
       "      <td>f</td>\n",
       "      <td>t</td>\n",
       "      <td>f</td>\n",
       "      <td>Mississippi State Health Department</td>\n",
       "      <td>901 Union Road</td>\n",
       "      <td>Tylertown</td>\n",
       "      <td>Mississippi</td>\n",
       "      <td>NaN</td>\n",
       "      <td>...</td>\n",
       "      <td>NaN</td>\n",
       "      <td>NaN</td>\n",
       "      <td>NaN</td>\n",
       "      <td>NaN</td>\n",
       "      <td>NaN</td>\n",
       "      <td>NaN</td>\n",
       "      <td>provider website</td>\n",
       "      <td>NaN</td>\n",
       "      <td>NaN</td>\n",
       "      <td>POINT (-90.13838 31.130804)</td>\n",
       "    </tr>\n",
       "    <tr>\n",
       "      <th>189</th>\n",
       "      <td>d8af4915-9405-4b53-b9d5-ebb75d47e792</td>\n",
       "      <td>f</td>\n",
       "      <td>f</td>\n",
       "      <td>t</td>\n",
       "      <td>f</td>\n",
       "      <td>White County Health Department</td>\n",
       "      <td>112 Brantley Rd</td>\n",
       "      <td>Searcy</td>\n",
       "      <td>Arkansas</td>\n",
       "      <td>NaN</td>\n",
       "      <td>...</td>\n",
       "      <td>NaN</td>\n",
       "      <td>NaN</td>\n",
       "      <td>NaN</td>\n",
       "      <td>NaN</td>\n",
       "      <td>NaN</td>\n",
       "      <td>NaN</td>\n",
       "      <td>provider website</td>\n",
       "      <td>NaN</td>\n",
       "      <td>NaN</td>\n",
       "      <td>POINT (-91.73356 35.206802)</td>\n",
       "    </tr>\n",
       "  </tbody>\n",
       "</table>\n",
       "<p>7 rows × 27 columns</p>\n",
       "</div>"
      ],
      "text/plain": [
       "                               location_id is_verified is_hidden  \\\n",
       "3201  6ca2fc6d-7e78-4065-8906-ef610f3bfc3c           f         f   \n",
       "2172  4ec75b5d-b8fe-48d8-9f7c-73400ecd16ad           f         f   \n",
       "3934  a8ee7594-6166-41b0-a8a7-119b1c0973ce           t         f   \n",
       "3607  13ca33b3-8287-44c0-a226-7df76a6a303f           f         f   \n",
       "2954  3aaff55d-3571-4dbf-9439-0353426c40e5           f         f   \n",
       "1999  cabfe6cb-6872-4f17-9827-a815bc90a6c1           f         f   \n",
       "189   d8af4915-9405-4b53-b9d5-ebb75d47e792           f         f   \n",
       "\n",
       "     is_location_screening_patients is_location_collecting_specimens  \\\n",
       "3201                              t                                f   \n",
       "2172                              t                                f   \n",
       "3934                              t                                f   \n",
       "3607                              t                                f   \n",
       "2954                              t                                f   \n",
       "1999                              t                                f   \n",
       "189                               t                                f   \n",
       "\n",
       "                            location_name     location_address_street  \\\n",
       "3201             Olivet Health Department           140 Euclid Street   \n",
       "2172            Montana Health Department       220 West Lamme Street   \n",
       "3934        UW Medical Center - Northwest            1550 N 115th St.   \n",
       "3607             Health Officer - Concord        385 West Main Street   \n",
       "2954  Oklahoma State Department of Health  1000 Northeast 10th Street   \n",
       "1999  Mississippi State Health Department              901 Union Road   \n",
       "189        White County Health Department             112 Brantley Rd   \n",
       "\n",
       "     location_address_locality location_address_region  \\\n",
       "3201                    Olivet            South Dakota   \n",
       "2172                   Bozeman                 Montana   \n",
       "3934                   Seattle                      WA   \n",
       "3607                   Concord                 Vermont   \n",
       "2954                  Oklahoma                Oklahoma   \n",
       "1999                 Tylertown             Mississippi   \n",
       "189                     Searcy                Arkansas   \n",
       "\n",
       "      location_address_postal_code  ...  \\\n",
       "3201                           NaN  ...   \n",
       "2172                           NaN  ...   \n",
       "3934                       98133.0  ...   \n",
       "3607                           NaN  ...   \n",
       "2954                           NaN  ...   \n",
       "1999                           NaN  ...   \n",
       "189                            NaN  ...   \n",
       "\n",
       "      is_location_only_testing_patients_that_meet_criteria  \\\n",
       "3201                                                NaN      \n",
       "2172                                                NaN      \n",
       "3934                                                  t      \n",
       "3607                                                NaN      \n",
       "2954                                                NaN      \n",
       "1999                                                NaN      \n",
       "189                                                 NaN      \n",
       "\n",
       "      is_location_by_appointment_only location_contact_phone_appointments  \\\n",
       "3201                              NaN                                 NaN   \n",
       "2172                              NaN                                 NaN   \n",
       "3934                                t                                 NaN   \n",
       "3607                              NaN                                 NaN   \n",
       "2954                              NaN                                 NaN   \n",
       "1999                              NaN                                 NaN   \n",
       "189                               NaN                                 NaN   \n",
       "\n",
       "     location_contact_url_appointments  \\\n",
       "3201                               NaN   \n",
       "2172                               NaN   \n",
       "3934                               NaN   \n",
       "3607                               NaN   \n",
       "2954                               NaN   \n",
       "1999                               NaN   \n",
       "189                                NaN   \n",
       "\n",
       "                     location_specific_testing_criteria  \\\n",
       "3201                                                NaN   \n",
       "2172                                                NaN   \n",
       "3934  https://www.doh.wa.gov/Emergencies/NovelCorona...   \n",
       "3607                                                NaN   \n",
       "2954                                                NaN   \n",
       "1999                                                NaN   \n",
       "189                                                 NaN   \n",
       "\n",
       "                 additional_information_for_patients       data_source  \\\n",
       "3201                                             NaN  provider website   \n",
       "2172                                             NaN  provider website   \n",
       "3934  https://www.doh.wa.gov/Emergencies/Coronavirus  provider website   \n",
       "3607                                             NaN  provider website   \n",
       "2954                                             NaN  provider website   \n",
       "1999                                             NaN  provider website   \n",
       "189                                              NaN  provider website   \n",
       "\n",
       "     is_ready_for_prod location_address_district  \\\n",
       "3201               NaN                       NaN   \n",
       "2172               NaN                       NaN   \n",
       "3934               NaN                       NaN   \n",
       "3607               NaN                       NaN   \n",
       "2954               NaN                       NaN   \n",
       "1999               NaN                       NaN   \n",
       "189                NaN                       NaN   \n",
       "\n",
       "                            geometry  \n",
       "3201  POINT (-97.6746926 43.2410819)  \n",
       "2172    POINT (-111.04209 45.681274)  \n",
       "3934    POINT (-122.33911 47.712307)  \n",
       "3607     POINT (-71.69618 44.461197)  \n",
       "2954      POINT (-97.48937 35.47799)  \n",
       "1999     POINT (-90.13838 31.130804)  \n",
       "189      POINT (-91.73356 35.206802)  \n",
       "\n",
       "[7 rows x 27 columns]"
      ]
     },
     "execution_count": 2,
     "metadata": {},
     "output_type": "execute_result"
    }
   ],
   "source": [
    "train_data.head(7)"
   ]
  },
  {
   "cell_type": "markdown",
   "metadata": {},
   "source": [
    "    drop useless data columns"
   ]
  },
  {
   "cell_type": "code",
   "execution_count": 3,
   "metadata": {},
   "outputs": [
    {
     "data": {
      "text/html": [
       "<div>\n",
       "<style scoped>\n",
       "    .dataframe tbody tr th:only-of-type {\n",
       "        vertical-align: middle;\n",
       "    }\n",
       "\n",
       "    .dataframe tbody tr th {\n",
       "        vertical-align: top;\n",
       "    }\n",
       "\n",
       "    .dataframe thead th {\n",
       "        text-align: right;\n",
       "    }\n",
       "</style>\n",
       "<table border=\"1\" class=\"dataframe\">\n",
       "  <thead>\n",
       "    <tr style=\"text-align: right;\">\n",
       "      <th></th>\n",
       "      <th>is_verified</th>\n",
       "      <th>is_hidden</th>\n",
       "      <th>is_location_screening_patients</th>\n",
       "      <th>is_location_collecting_specimens</th>\n",
       "      <th>lat</th>\n",
       "      <th>lng</th>\n",
       "      <th>is_location_accepting_third_party_orders_for_testing</th>\n",
       "      <th>is_location_only_testing_patients_that_meet_criteria</th>\n",
       "      <th>is_location_by_appointment_only</th>\n",
       "    </tr>\n",
       "  </thead>\n",
       "  <tbody>\n",
       "    <tr>\n",
       "      <th>3201</th>\n",
       "      <td>f</td>\n",
       "      <td>f</td>\n",
       "      <td>t</td>\n",
       "      <td>f</td>\n",
       "      <td>43.241082</td>\n",
       "      <td>-97.674693</td>\n",
       "      <td>NaN</td>\n",
       "      <td>NaN</td>\n",
       "      <td>NaN</td>\n",
       "    </tr>\n",
       "    <tr>\n",
       "      <th>2172</th>\n",
       "      <td>f</td>\n",
       "      <td>f</td>\n",
       "      <td>t</td>\n",
       "      <td>f</td>\n",
       "      <td>45.681274</td>\n",
       "      <td>-111.042090</td>\n",
       "      <td>NaN</td>\n",
       "      <td>NaN</td>\n",
       "      <td>NaN</td>\n",
       "    </tr>\n",
       "    <tr>\n",
       "      <th>3934</th>\n",
       "      <td>t</td>\n",
       "      <td>f</td>\n",
       "      <td>t</td>\n",
       "      <td>f</td>\n",
       "      <td>47.712307</td>\n",
       "      <td>-122.339110</td>\n",
       "      <td>f</td>\n",
       "      <td>t</td>\n",
       "      <td>t</td>\n",
       "    </tr>\n",
       "    <tr>\n",
       "      <th>3607</th>\n",
       "      <td>f</td>\n",
       "      <td>f</td>\n",
       "      <td>t</td>\n",
       "      <td>f</td>\n",
       "      <td>44.461197</td>\n",
       "      <td>-71.696180</td>\n",
       "      <td>NaN</td>\n",
       "      <td>NaN</td>\n",
       "      <td>NaN</td>\n",
       "    </tr>\n",
       "    <tr>\n",
       "      <th>2954</th>\n",
       "      <td>f</td>\n",
       "      <td>f</td>\n",
       "      <td>t</td>\n",
       "      <td>f</td>\n",
       "      <td>35.477990</td>\n",
       "      <td>-97.489370</td>\n",
       "      <td>NaN</td>\n",
       "      <td>NaN</td>\n",
       "      <td>NaN</td>\n",
       "    </tr>\n",
       "  </tbody>\n",
       "</table>\n",
       "</div>"
      ],
      "text/plain": [
       "     is_verified is_hidden is_location_screening_patients  \\\n",
       "3201           f         f                              t   \n",
       "2172           f         f                              t   \n",
       "3934           t         f                              t   \n",
       "3607           f         f                              t   \n",
       "2954           f         f                              t   \n",
       "\n",
       "     is_location_collecting_specimens        lat         lng  \\\n",
       "3201                                f  43.241082  -97.674693   \n",
       "2172                                f  45.681274 -111.042090   \n",
       "3934                                f  47.712307 -122.339110   \n",
       "3607                                f  44.461197  -71.696180   \n",
       "2954                                f  35.477990  -97.489370   \n",
       "\n",
       "     is_location_accepting_third_party_orders_for_testing  \\\n",
       "3201                                                NaN     \n",
       "2172                                                NaN     \n",
       "3934                                                  f     \n",
       "3607                                                NaN     \n",
       "2954                                                NaN     \n",
       "\n",
       "     is_location_only_testing_patients_that_meet_criteria  \\\n",
       "3201                                                NaN     \n",
       "2172                                                NaN     \n",
       "3934                                                  t     \n",
       "3607                                                NaN     \n",
       "2954                                                NaN     \n",
       "\n",
       "     is_location_by_appointment_only  \n",
       "3201                             NaN  \n",
       "2172                             NaN  \n",
       "3934                               t  \n",
       "3607                             NaN  \n",
       "2954                             NaN  "
      ]
     },
     "execution_count": 3,
     "metadata": {},
     "output_type": "execute_result"
    }
   ],
   "source": [
    "train_data.drop(train_data.columns[[0,5,6,7,8,9,12,13,14,15,19,20,21,22,23,24,25,26]],axis=1,inplace=True)\n",
    "train_data.head()"
   ]
  },
  {
   "cell_type": "markdown",
   "metadata": {},
   "source": [
    "    convert all 't' and 'f' into 1 and 0"
   ]
  },
  {
   "cell_type": "code",
   "execution_count": 4,
   "metadata": {},
   "outputs": [],
   "source": [
    "train_data['is_verified'] = np.where(train_data['is_verified'] == 't', 1, 0)\n",
    "train_data['is_hidden'] = np.where(train_data['is_hidden'] == 't', 1, 0)\n",
    "train_data['is_location_screening_patients'] = np.where(train_data['is_location_screening_patients'] == 't', 1, 0)\n",
    "train_data['is_location_collecting_specimens'] = np.where(train_data['is_location_collecting_specimens'] == 't', 1, 0)\n",
    "train_data['is_location_accepting_third_party_orders_for_testing'] = np.where(train_data['is_location_accepting_third_party_orders_for_testing'] == 't', 1, 0)\n",
    "train_data['is_location_only_testing_patients_that_meet_criteria'] = np.where(train_data['is_location_only_testing_patients_that_meet_criteria'] == 't', 1, 0)\n",
    "train_data['is_location_by_appointment_only'] = np.where(train_data['is_location_by_appointment_only'] == 't', 1, 0)\n"
   ]
  },
  {
   "cell_type": "markdown",
   "metadata": {},
   "source": [
    "Due to the propagation characteristics of covid-19, it's easy to find many cases will be confirmed **regionally**,so there're many verified cases in some specific areas.The following pics show some information about the conclusion.But those latitude('lat'), longitude('lng') infomation have no obvious correlation with is_verified cases by calculation."
   ]
  },
  {
   "cell_type": "code",
   "execution_count": 5,
   "metadata": {
    "scrolled": true
   },
   "outputs": [
    {
     "data": {
      "image/png": "[encoded data removed]",
      "text/plain": [
       "<Figure size 432x288 with 2 Axes>"
      ]
     },
     "metadata": {
      "needs_background": "light"
     },
     "output_type": "display_data"
    }
   ],
   "source": [
    "plt.subplot2grid((1, 2),(0, 0))\n",
    "plt.title('verified cases position')\n",
    "plt.scatter(x=train_data.lat[train_data.is_verified == 1], y=train_data.lng[train_data.is_verified == 1],alpha=0.3)\n",
    "plt.xlabel('lat')\n",
    "plt.ylabel('lng')\n",
    "\n",
    "plt.subplot2grid((1,2), (0,1))\n",
    "train_data.lat[train_data.is_verified == 1].plot(kind='kde')\n",
    "train_data.lng[train_data.is_verified == 1].plot(kind='kde')\n",
    "plt.xlabel('lat or lng')\n",
    "plt.ylabel('density')\n",
    "plt.legend(('lat','lng'), loc='best')\n",
    "\n",
    "plt.show()"
   ]
  },
  {
   "cell_type": "markdown",
   "metadata": {},
   "source": [
    "normalized 'lat' and 'lng' values into 0~1\n",
    "show correlations"
   ]
  },
  {
   "cell_type": "code",
   "execution_count": 6,
   "metadata": {
    "scrolled": true
   },
   "outputs": [
    {
     "data": {
      "image/png": "[encoded data removed]",
      "text/plain": [
       "<Figure size 432x288 with 2 Axes>"
      ]
     },
     "metadata": {
      "needs_background": "light"
     },
     "output_type": "display_data"
    }
   ],
   "source": [
    "train_data['lat'] = (train_data['lat']-train_data['lat'].min())/(train_data['lat'].max()-train_data['lat'].min())\n",
    "train_data['lng'] = (train_data['lng']-train_data['lng'].min())/(train_data['lng'].max()-train_data['lng'].min())\n",
    "sns.heatmap(train_data.corr())\n",
    "plt.show()"
   ]
  },
  {
   "cell_type": "markdown",
   "metadata": {},
   "source": [
    "according to the figure,we can make a preliminary guess that \n",
    "**is_location_collecting_specimens,is_location_accepting_third_party_orders_for_testing, is_location_only_testing_patients_that_meet_criteria and is_location_by_appointment_only** have high correlation with is_verified"
   ]
  },
  {
   "cell_type": "code",
   "execution_count": 7,
   "metadata": {},
   "outputs": [
    {
     "data": {
      "image/png": "[encoded data removed]",
      "text/plain": [
       "<Figure size 432x288 with 1 Axes>"
      ]
     },
     "metadata": {
      "needs_background": "light"
     },
     "output_type": "display_data"
    }
   ],
   "source": [
    "is_location_collecting_specimens1 = train_data.is_verified[train_data.is_location_collecting_specimens == 1].value_counts()\n",
    "is_location_collecting_specimens0 = train_data.is_verified[train_data.is_location_collecting_specimens == 0].value_counts()\n",
    "h_train_data = pd.DataFrame({'verified':is_location_collecting_specimens1, 'not verified':is_location_collecting_specimens0})\n",
    "h_train_data.plot(kind='bar', stacked=True)\n",
    "plt.ylabel('num of people')\n",
    "plt.xlabel('have collected specimens')\n",
    "plt.show()"
   ]
  },
  {
   "cell_type": "markdown",
   "metadata": {},
   "source": [
    "Through the above analysis, we can see that if people are collected and sampled in a region, the proportion of people diagnosed will be significantly higher than those that have not been collected and sampled. Therefore, whether a region collects samples has a clear relationship with the diagnosis. We can use it as a feature value."
   ]
  },
  {
   "cell_type": "code",
   "execution_count": 8,
   "metadata": {
    "scrolled": true
   },
   "outputs": [
    {
     "data": {
      "image/png": "[encoded data removed]",
      "text/plain": [
       "<Figure size 432x288 with 1 Axes>"
      ]
     },
     "metadata": {
      "needs_background": "light"
     },
     "output_type": "display_data"
    }
   ],
   "source": [
    "is_location_accepting_third_party_orders_for_testing1 = train_data.is_verified[train_data.is_location_accepting_third_party_orders_for_testing == 1].value_counts()\n",
    "is_location_accepting_third_party_orders_for_testing0 =train_data.is_verified[train_data.is_location_accepting_third_party_orders_for_testing == 0].value_counts()\n",
    "df1 = pd.DataFrame({'verified':is_location_accepting_third_party_orders_for_testing1, 'not verified':is_location_accepting_third_party_orders_for_testing0})\n",
    "df1.plot(kind='bar', stacked=True)\n",
    "plt.ylabel('num of people')\n",
    "plt.xlabel('have third party order')\n",
    "plt.show()"
   ]
  },
  {
   "cell_type": "code",
   "execution_count": 9,
   "metadata": {
    "scrolled": true
   },
   "outputs": [
    {
     "data": {
      "image/png": "[encoded data removed]",
      "text/plain": [
       "<Figure size 432x288 with 1 Axes>"
      ]
     },
     "metadata": {
      "needs_background": "light"
     },
     "output_type": "display_data"
    }
   ],
   "source": [
    "is_location_only_testing_patients_that_meet_criteria1 = train_data.is_verified[train_data.is_location_only_testing_patients_that_meet_criteria == 1].value_counts()\n",
    "is_location_only_testing_patients_that_meet_criteria0 = train_data.is_verified[train_data.is_location_only_testing_patients_that_meet_criteria == 0].value_counts()\n",
    "df2 = pd.DataFrame({'verified':is_location_only_testing_patients_that_meet_criteria1, 'not verified':is_location_only_testing_patients_that_meet_criteria0})\n",
    "df2.plot(kind='bar', stacked=True)\n",
    "plt.ylabel('num of people')\n",
    "plt.xlabel('have test meeting criteria')\n",
    "plt.show()"
   ]
  },
  {
   "cell_type": "code",
   "execution_count": 10,
   "metadata": {
    "scrolled": true
   },
   "outputs": [
    {
     "data": {
      "image/png": "[encoded data removed]",
      "text/plain": [
       "<Figure size 432x288 with 1 Axes>"
      ]
     },
     "metadata": {
      "needs_background": "light"
     },
     "output_type": "display_data"
    }
   ],
   "source": [
    "is_location_by_appointment_only1 = train_data.is_verified[train_data.is_location_by_appointment_only == 1].value_counts()\n",
    "is_location_by_appointment_only0 = train_data.is_verified[train_data.is_location_by_appointment_only == 0].value_counts()\n",
    "df3 = pd.DataFrame({'verified':is_location_by_appointment_only1, 'not verified':is_location_by_appointment_only0})\n",
    "df3.plot(kind='bar', stacked=True)\n",
    "plt.ylabel('num of people')\n",
    "plt.xlabel('have location appointment')\n",
    "plt.show()"
   ]
  },
  {
   "cell_type": "code",
   "execution_count": 11,
   "metadata": {},
   "outputs": [
    {
     "data": {
      "text/plain": [
       "LogisticRegression(C=1, class_weight=None, dual=False, fit_intercept=True,\n",
       "                   intercept_scaling=1, l1_ratio=None, max_iter=100,\n",
       "                   multi_class='auto', n_jobs=None, penalty='l2',\n",
       "                   random_state=None, solver='lbfgs', tol=1e-06, verbose=0,\n",
       "                   warm_start=False)"
      ]
     },
     "execution_count": 11,
     "metadata": {},
     "output_type": "execute_result"
    }
   ],
   "source": [
    "from sklearn import linear_model\n",
    "\n",
    "train_np = train_data.iloc[:,:].values\n",
    "\n",
    "y = train_np[:, 0]\n",
    "# X为特征值\n",
    "X = train_np[:, 1:]\n",
    "\n",
    "clf = linear_model.LogisticRegression(C=1,penalty='l2', tol=1e-6)\n",
    "clf.fit(X,y)\n",
    "clf"
   ]
  },
  {
   "cell_type": "code",
   "execution_count": 12,
   "metadata": {},
   "outputs": [],
   "source": [
    "pd.set_option('mode.chained_assignment', None)\n",
    "test_data.drop(test_data.columns[[0,5,6,7,8,9,12,13,14,15,19,20,21,22,23,24,25,26]],axis=1,inplace=True)\n",
    "test_data['is_verified'] = np.where(test_data['is_verified'] == 't', 1, 0)\n",
    "test_data['is_hidden'] = np.where(test_data['is_hidden'] == 't', 1, 0)\n",
    "test_data['is_location_screening_patients'] = np.where(test_data['is_location_screening_patients'] == 't', 1, 0)\n",
    "test_data['is_location_collecting_specimens'] = np.where(test_data['is_location_collecting_specimens'] == 't', 1, 0)\n",
    "test_data['is_location_accepting_third_party_orders_for_testing'] = np.where(test_data['is_location_accepting_third_party_orders_for_testing'] == 't', 1, 0)\n",
    "test_data['is_location_only_testing_patients_that_meet_criteria'] = np.where(test_data['is_location_only_testing_patients_that_meet_criteria'] == 't', 1, 0)\n",
    "test_data['is_location_by_appointment_only'] = np.where(test_data['is_location_by_appointment_only'] == 't', 1, 0)\n",
    "test_data['lat'] = (test_data['lat']-test_data['lat'].min())/(test_data['lat'].max()-test_data['lat'].min())\n",
    "test_data['lng'] = (test_data['lng']-test_data['lng'].min())/(test_data['lng'].max()-test_data['lng'].min())"
   ]
  },
  {
   "cell_type": "code",
   "execution_count": 13,
   "metadata": {},
   "outputs": [],
   "source": [
    "test_np = test_data.iloc[:,1:].values\n",
    "result_np = test_data.iloc[:, 0].values\n",
    "predictions = clf.predict(test_np)"
   ]
  },
  {
   "cell_type": "code",
   "execution_count": 14,
   "metadata": {},
   "outputs": [
    {
     "name": "stdout",
     "output_type": "stream",
     "text": [
      "0.8990384615384616\n"
     ]
    }
   ],
   "source": [
    "from sklearn.metrics import accuracy_score\n",
    "print(accuracy_score(result_np, predictions))"
   ]
  },
  {
   "cell_type": "code",
   "execution_count": 15,
   "metadata": {
    "scrolled": true
   },
   "outputs": [],
   "source": [
    "from sklearn.model_selection import learning_curve\n",
    "def plot_learning_curve(estimator, title, X, y, ylim=None, cv=None, n_jobs=1, \n",
    "                        train_sizes=np.linspace(.05, 1., 20), verbose=0, plot=True):\n",
    "    \"\"\"\n",
    "    画出data在某模型上的learning curve.\n",
    "    参数解释\n",
    "    ----------\n",
    "    estimator : 你用的分类器。\n",
    "    title : 表格的标题。\n",
    "    X : 输入的feature，numpy类型\n",
    "    y : 输入的target vector\n",
    "    ylim : tuple格式的(ymin, ymax), 设定图像中纵坐标的最低点和最高点\n",
    "    cv : 做cross-validation的时候，数据分成的份数，其中一份作为cv集，其余n-1份作为training(默认为3份)\n",
    "    n_jobs : 并行的的任务数(默认1)\n",
    "    \"\"\"\n",
    "    train_sizes, train_scores, test_scores = learning_curve(\n",
    "        estimator, X, y, cv=cv, n_jobs=n_jobs, train_sizes=train_sizes, verbose=verbose)\n",
    "    \n",
    "    train_scores_mean = np.mean(train_scores, axis=1)\n",
    "    train_scores_std = np.std(train_scores, axis=1)\n",
    "    test_scores_mean = np.mean(test_scores, axis=1)\n",
    "    test_scores_std = np.std(test_scores, axis=1)\n",
    "    \n",
    "    if plot:\n",
    "        # plt.figure()\n",
    "        plt.title(title)\n",
    "        if ylim is not None:\n",
    "            plt.ylim(*ylim)\n",
    "        plt.xlabel(\"training sample num\")\n",
    "        plt.ylabel(\"score\")\n",
    "        # plt.gca().invert_yaxis()\n",
    "        plt.grid()\n",
    "    \n",
    "        plt.fill_between(train_sizes, train_scores_mean - train_scores_std, train_scores_mean + train_scores_std, \n",
    "                         alpha=0.1, color=\"b\")\n",
    "        plt.fill_between(train_sizes, test_scores_mean - test_scores_std, test_scores_mean + test_scores_std, \n",
    "                         alpha=0.1, color=\"r\")\n",
    "        plt.plot(train_sizes, train_scores_mean, 'o-', color=\"b\", label=\"score in train\")\n",
    "        plt.plot(train_sizes, test_scores_mean, 'o-', color=\"r\", label=\"score in cross-validation\")\n",
    "    \n",
    "        plt.legend(loc=\"best\")\n",
    "        \n",
    "        # plt.draw()\n",
    "        plt.show()\n",
    "        plt.gca().invert_yaxis()\n",
    "    \n",
    "    midpoint = ((train_scores_mean[-1] + train_scores_std[-1]) + (test_scores_mean[-1] - test_scores_std[-1])) / 2\n",
    "    diff = (train_scores_mean[-1] + train_scores_std[-1]) - (test_scores_mean[-1] - test_scores_std[-1])\n",
    "    return midpoint, diff"
   ]
  },
  {
   "cell_type": "code",
   "execution_count": 16,
   "metadata": {
    "scrolled": false
   },
   "outputs": [
    {
     "data": {
      "image/png": "[encoded data removed]",
      "text/plain": [
       "<Figure size 432x288 with 1 Axes>"
      ]
     },
     "metadata": {
      "needs_background": "light"
     },
     "output_type": "display_data"
    },
    {
     "data": {
      "text/plain": [
       "(0.9010845405061665, 0.020034534119309888)"
      ]
     },
     "execution_count": 16,
     "metadata": {},
     "output_type": "execute_result"
    },
    {
     "data": {
      "image/png": "[encoded data removed]",
      "text/plain": [
       "<Figure size 432x288 with 1 Axes>"
      ]
     },
     "metadata": {
      "needs_background": "light"
     },
     "output_type": "display_data"
    }
   ],
   "source": [
    "plot_learning_curve(clf, \"learing curve\", X, y)"
   ]
  }
 ],
 "metadata": {
  "kernelspec": {
   "display_name": "Python 3",
   "language": "python",
   "name": "python3"
  },
  "language_info": {
   "codemirror_mode": {
    "name": "ipython",
    "version": 3
   },
   "file_extension": ".py",
   "mimetype": "text/x-python",
   "name": "python",
   "nbconvert_exporter": "python",
   "pygments_lexer": "ipython3",
   "version": "3.7.6"
  }
 },
 "nbformat": 4,
 "nbformat_minor": 4
}
